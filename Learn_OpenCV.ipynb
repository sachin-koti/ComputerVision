{
 "cells": [
  {
   "cell_type": "code",
   "execution_count": 1,
   "metadata": {},
   "outputs": [],
   "source": [
    "import cv2"
   ]
  },
  {
   "cell_type": "code",
   "execution_count": 2,
   "metadata": {},
   "outputs": [
    {
     "name": "stdout",
     "output_type": "stream",
     "text": [
      "width: 399 pixels\n",
      "height: 248 pixels\n",
      "channels: 3 \n"
     ]
    },
    {
     "data": {
      "text/plain": [
       "113"
      ]
     },
     "execution_count": 2,
     "metadata": {},
     "output_type": "execute_result"
    }
   ],
   "source": [
    "image = cv2.imread(\"blue_car_01.jpg\")\n",
    "print(\"width: %d pixels\" % (image.shape[1]))\n",
    "print(\"height: %d pixels\" % (image.shape[0]))\n",
    "print(\"channels: %d \" % (image.shape[2]))\n",
    "cv2.imshow(\"Image\",image)\n",
    "cv2.waitKey(0)"
   ]
  },
  {
   "cell_type": "markdown",
   "metadata": {},
   "source": [
    "a call to __cv2.waitKey__ pauses the execution of the script until we press a key on our keyboard. Using a parameter of 0 indicates that any keypress will un-pause the execution."
   ]
  },
  {
   "cell_type": "code",
   "execution_count": 3,
   "metadata": {},
   "outputs": [
    {
     "data": {
      "text/plain": [
       "True"
      ]
     },
     "execution_count": 3,
     "metadata": {},
     "output_type": "execute_result"
    }
   ],
   "source": [
    "cv2.imwrite(\"newimage.jpg\", image)"
   ]
  },
  {
   "cell_type": "code",
   "execution_count": 3,
   "metadata": {},
   "outputs": [
    {
     "name": "stdout",
     "output_type": "stream",
     "text": [
      "Pixel at (0, 0) - Red: 76, Green: 66, Blue: 54\n"
     ]
    }
   ],
   "source": [
    "(b, g, r) = image[0, 0]\n",
    "print(\"Pixel at (0, 0) - Red: %d, Green: %d, Blue: %d\" % (r, g, b))"
   ]
  },
  {
   "cell_type": "code",
   "execution_count": 4,
   "metadata": {},
   "outputs": [
    {
     "name": "stdout",
     "output_type": "stream",
     "text": [
      "Pixel at (0, 0) - Red: 255, Green: 0, Blue: 0\n"
     ]
    }
   ],
   "source": [
    "image[0, 0] = (0, 0, 255)\n",
    "(b, g, r) = image[0, 0]\n",
    "print(\"Pixel at (0, 0) - Red: %d, Green: %d, Blue: %d\" % (r, g, b))"
   ]
  },
  {
   "cell_type": "code",
   "execution_count": 5,
   "metadata": {},
   "outputs": [],
   "source": [
    "corner = image[0:100, 0:100]\n",
    "cv2.imshow(\"Corner\", corner)"
   ]
  },
  {
   "cell_type": "code",
   "execution_count": 6,
   "metadata": {},
   "outputs": [
    {
     "data": {
      "text/plain": [
       "32"
      ]
     },
     "execution_count": 6,
     "metadata": {},
     "output_type": "execute_result"
    }
   ],
   "source": [
    "image[0:100, 0:100] = (0, 0, 255)\n",
    "cv2.imshow(\"Updated\",image)\n",
    "cv2.waitKey(0)"
   ]
  },
  {
   "cell_type": "code",
   "execution_count": 38,
   "metadata": {},
   "outputs": [],
   "source": [
    "cv2.destroyAllWindows()"
   ]
  },
  {
   "cell_type": "markdown",
   "metadata": {},
   "source": [
    "#### Lines and rectangles "
   ]
  },
  {
   "cell_type": "code",
   "execution_count": 17,
   "metadata": {},
   "outputs": [],
   "source": [
    "import numpy as np\n",
    "import cv2\n",
    "\n",
    "canvas = np.zeros((300, 300, 3), dtype = \"uint8\")"
   ]
  },
  {
   "cell_type": "code",
   "execution_count": 18,
   "metadata": {},
   "outputs": [
    {
     "data": {
      "text/plain": [
       "32"
      ]
     },
     "execution_count": 18,
     "metadata": {},
     "output_type": "execute_result"
    }
   ],
   "source": [
    "green = (0, 255, 0)\n",
    "cv2.line(canvas, (0, 0), (300, 300), green)\n",
    "cv2.imshow(\"Canvas\", canvas)\n",
    "cv2.waitKey(0)"
   ]
  },
  {
   "cell_type": "code",
   "execution_count": 19,
   "metadata": {},
   "outputs": [
    {
     "data": {
      "text/plain": [
       "32"
      ]
     },
     "execution_count": 19,
     "metadata": {},
     "output_type": "execute_result"
    }
   ],
   "source": [
    "red = (0, 0, 255)\n",
    "cv2.line(canvas, (300, 0), (0, 300), red, 3)     # '3' is the thickness of the line\n",
    "cv2.imshow(\"Canvas\", canvas)\n",
    "cv2.waitKey(0)"
   ]
  },
  {
   "cell_type": "code",
   "execution_count": 20,
   "metadata": {},
   "outputs": [
    {
     "data": {
      "text/plain": [
       "32"
      ]
     },
     "execution_count": 20,
     "metadata": {},
     "output_type": "execute_result"
    }
   ],
   "source": [
    "cv2.rectangle(canvas, (10, 10), (60, 60), green)\n",
    "cv2.imshow(\"Canvas\",canvas)\n",
    "cv2.waitKey(0)"
   ]
  },
  {
   "cell_type": "code",
   "execution_count": 21,
   "metadata": {},
   "outputs": [
    {
     "data": {
      "text/plain": [
       "32"
      ]
     },
     "execution_count": 21,
     "metadata": {},
     "output_type": "execute_result"
    }
   ],
   "source": [
    "cv2.rectangle(canvas, (50, 200), (200, 225), red, 5)\n",
    "cv2.imshow(\"Canvas\", canvas)\n",
    "cv2.waitKey(0)"
   ]
  },
  {
   "cell_type": "code",
   "execution_count": 22,
   "metadata": {},
   "outputs": [
    {
     "data": {
      "text/plain": [
       "32"
      ]
     },
     "execution_count": 22,
     "metadata": {},
     "output_type": "execute_result"
    }
   ],
   "source": [
    "blue = (255, 0, 0)\n",
    "cv2.rectangle(canvas, (200, 50), (225, 125), blue, -1)      # '-1' fills the rectangle\n",
    "cv2.imshow(\"Canvas\",canvas)\n",
    "cv2.waitKey(0)"
   ]
  },
  {
   "cell_type": "markdown",
   "metadata": {},
   "source": [
    "#### Circles"
   ]
  },
  {
   "cell_type": "code",
   "execution_count": 23,
   "metadata": {},
   "outputs": [
    {
     "data": {
      "text/plain": [
       "32"
      ]
     },
     "execution_count": 23,
     "metadata": {},
     "output_type": "execute_result"
    }
   ],
   "source": [
    "canvas = np.zeros((300, 300, 3), dtype = \"uint8\")\n",
    "(centerX, centerY) = (canvas.shape[1] // 2, canvas.shape[0] // 2)\n",
    "white = (255, 255, 255)\n",
    "\n",
    "for r in range(0, 175, 25):\n",
    "    cv2.circle(canvas, (centerX, centerY), r, white)\n",
    "\n",
    "cv2.imshow(\"Canvas\", canvas)\n",
    "cv2.waitKey(0)"
   ]
  },
  {
   "cell_type": "code",
   "execution_count": 26,
   "metadata": {},
   "outputs": [
    {
     "data": {
      "text/plain": [
       "32"
      ]
     },
     "execution_count": 26,
     "metadata": {},
     "output_type": "execute_result"
    }
   ],
   "source": [
    "for i in range(0, 25):\n",
    "    radius = np.random.randint(0, high = 200)\n",
    "    color = np.random.randint(0, high = 256, size = (3,)).tolist()\n",
    "    \n",
    "    pt = np.random.randint(0, high = 300, size = (2,))\n",
    "    \n",
    "    cv2.circle(canvas, tuple(pt), radius, color, -1)\n",
    "    \n",
    "cv2.imshow(\"Canvas\", canvas)\n",
    "cv2.waitKey(0)"
   ]
  },
  {
   "cell_type": "markdown",
   "metadata": {},
   "source": [
    "## IMAGE PROCESSING"
   ]
  },
  {
   "cell_type": "markdown",
   "metadata": {},
   "source": [
    "### 1.IMAGE TRANSFORMATIONS "
   ]
  },
  {
   "cell_type": "markdown",
   "metadata": {},
   "source": [
    "#### Translation\n",
    "- Translation is the shifting of an image along the x and y axis."
   ]
  },
  {
   "cell_type": "code",
   "execution_count": 27,
   "metadata": {},
   "outputs": [
    {
     "data": {
      "text/plain": [
       "32"
      ]
     },
     "execution_count": 27,
     "metadata": {},
     "output_type": "execute_result"
    }
   ],
   "source": [
    "import numpy as np\n",
    "import cv2\n",
    "\n",
    "image = cv2.imread(\"blue_car_01.jpg\")\n",
    "cv2.imshow(\"Original\", image)\n",
    "cv2.waitKey(0)\n",
    "\n",
    "#translation matrix\n",
    "M = np.float32([[1, 0, 25], [0, 1, 50]])\n",
    "\n",
    "shifted = cv2.warpAffine(image, M, (image.shape[1], image.shape[0]))\n",
    "cv2.imshow(\"Shifted Down and Right\", shifted)\n",
    "cv2.waitKey(0)\n",
    "\n",
    "M = np.float32([[1, 0, -50], [0, 1, -90]])\n",
    "shifted = cv2.warpAffine(image, M, (image.shape[1], image.shape[0]))\n",
    "cv2.imshow(\"Shifted Up and Left\", shifted)\n",
    "cv2.waitKey(0)"
   ]
  },
  {
   "cell_type": "markdown",
   "metadata": {},
   "source": [
    "- However, manually constructing this translation matrix and calling the cv2.warpAffine method takes a fair amount of code – and it’s not pretty code either!\n",
    "- Let’s create a new file: __imutils.py__. This file will store basic image processing methods, allowing us to conveniently call them without writing a lot of code.\n"
   ]
  },
  {
   "cell_type": "code",
   "execution_count": 28,
   "metadata": {},
   "outputs": [
    {
     "data": {
      "text/plain": [
       "32"
      ]
     },
     "execution_count": 28,
     "metadata": {},
     "output_type": "execute_result"
    }
   ],
   "source": [
    "import imutils\n",
    "\n",
    "shifted = imutils.translate(image, 0, 100)\n",
    "cv2.imshow(\"Shifted Down\", shifted)\n",
    "cv2.waitKey(0)"
   ]
  },
  {
   "cell_type": "markdown",
   "metadata": {},
   "source": [
    "Our __translate__ method takes three parameters: \n",
    "- the image we are going to translate, \n",
    "- the number pixels that we are going to shift along the x-axis, \n",
    "- the number of pixels we are going to shift along the y-axis."
   ]
  },
  {
   "cell_type": "markdown",
   "metadata": {},
   "source": [
    "#### Rotation "
   ]
  },
  {
   "cell_type": "code",
   "execution_count": 30,
   "metadata": {},
   "outputs": [
    {
     "data": {
      "text/plain": [
       "32"
      ]
     },
     "execution_count": 30,
     "metadata": {},
     "output_type": "execute_result"
    }
   ],
   "source": [
    "import numpy as np\n",
    "import cv2\n",
    "\n",
    "image = cv2.imread(\"blue_car_01.jpg\")\n",
    "cv2.imshow(\"Original\", image)\n",
    "cv2.waitKey(0)\n",
    "\n",
    "(h, w) = image.shape[:2]\n",
    "center = (w / 2, h / 2)\n",
    "\n",
    "M = cv2.getRotationMatrix2D(center, 45, 1.0)\n",
    "rotated = cv2.warpAffine(image, M, (w, h))\n",
    "cv2.imshow(\"Rotated by 45 degrees\", rotated)\n",
    "cv2.waitKey(0)\n",
    "\n",
    "M = cv2.getRotationMatrix2D(center, -90, 1.0)\n",
    "rotated = cv2.warpAffine(image, M, (w, h))\n",
    "cv2.imshow(\"Rotated by -90 degrees\", rotated)\n",
    "cv2.waitKey(0)"
   ]
  },
  {
   "cell_type": "markdown",
   "metadata": {},
   "source": [
    "Let's write a convenience method to perform __rotation__ in __imutils.py__"
   ]
  },
  {
   "cell_type": "code",
   "execution_count": 5,
   "metadata": {},
   "outputs": [],
   "source": [
    "import imutils\n",
    "import cv2"
   ]
  },
  {
   "cell_type": "code",
   "execution_count": 31,
   "metadata": {},
   "outputs": [
    {
     "data": {
      "text/plain": [
       "32"
      ]
     },
     "execution_count": 31,
     "metadata": {},
     "output_type": "execute_result"
    }
   ],
   "source": [
    "image = cv2.imread(\"blue_car_01.jpg\")\n",
    "cv2.imshow(\"Original\", image)\n",
    "cv2.waitKey(0)\n",
    "\n",
    "rotated = imutils.rotation(image, 180)\n",
    "cv2.imshow(\"Rotated by 180 Degrees\", rotated)\n",
    "cv2.waitKey(0)"
   ]
  },
  {
   "cell_type": "markdown",
   "metadata": {},
   "source": [
    "#### Resizing\n",
    "\n",
    "- When resizing an image, we need to keep in mind the aspect ratio of the image. \n",
    "- The aspect ratio is the proportional relationship of the width and the height of the image"
   ]
  },
  {
   "cell_type": "code",
   "execution_count": 33,
   "metadata": {},
   "outputs": [
    {
     "data": {
      "text/plain": [
       "32"
      ]
     },
     "execution_count": 33,
     "metadata": {},
     "output_type": "execute_result"
    }
   ],
   "source": [
    "image = cv2.imread(\"blue_car_01.jpg\")\n",
    "cv2.imshow(\"Original\", image)\n",
    "cv2.waitKey(0)\n",
    "\n",
    "# resizing by width\n",
    "r = 150.0 / image.shape[1]\n",
    "dim = (150, int(image.shape[0] * r))\n",
    "\n",
    "resized = cv2.resize(image, dim, interpolation = cv2.INTER_AREA)\n",
    "cv2.imshow(\"Resized (Width)\", resized)\n",
    "cv2.waitKey(0)"
   ]
  },
  {
   "cell_type": "markdown",
   "metadata": {},
   "source": [
    "Last parameter is our __interpolation__ method, which is the algorithm working behind the scenes to handle how the actual image is resized."
   ]
  },
  {
   "cell_type": "code",
   "execution_count": 34,
   "metadata": {},
   "outputs": [
    {
     "data": {
      "text/plain": [
       "32"
      ]
     },
     "execution_count": 34,
     "metadata": {},
     "output_type": "execute_result"
    }
   ],
   "source": [
    "# resizing by height\n",
    "r = 50.0 / image.shape[0]\n",
    "dim = (int(image.shape[1] * r), 50)\n",
    "\n",
    "resized = cv2.resize(image, dim, interpolation=cv2.INTER_AREA)\n",
    "cv2.imshow(\"Resized (height)\", resized)\n",
    "cv2.waitKey(0)"
   ]
  },
  {
   "cell_type": "markdown",
   "metadata": {},
   "source": [
    "Let's write a convenience method to perform __resize__ in __imutils.py__."
   ]
  },
  {
   "cell_type": "code",
   "execution_count": 1,
   "metadata": {},
   "outputs": [],
   "source": [
    "import imutils\n",
    "import cv2"
   ]
  },
  {
   "cell_type": "code",
   "execution_count": 3,
   "metadata": {},
   "outputs": [
    {
     "data": {
      "text/plain": [
       "18"
      ]
     },
     "execution_count": 3,
     "metadata": {},
     "output_type": "execute_result"
    }
   ],
   "source": [
    "image = cv2.imread(\"blue_car_01.jpg\")\n",
    "# resize by width\n",
    "resized = imutils.resize(image, width = 100)\n",
    "cv2.imshow(\"Resized via Function\", resized)\n",
    "cv2.waitKey(0)"
   ]
  },
  {
   "cell_type": "code",
   "execution_count": 5,
   "metadata": {},
   "outputs": [
    {
     "data": {
      "text/plain": [
       "32"
      ]
     },
     "execution_count": 5,
     "metadata": {},
     "output_type": "execute_result"
    }
   ],
   "source": [
    "# resize by height\n",
    "resized = imutils.resize(image, height = 50)\n",
    "cv2.imshow(\"Resized via Function\", resized)\n",
    "cv2.waitKey(0)"
   ]
  },
  {
   "cell_type": "markdown",
   "metadata": {},
   "source": [
    "#### Flipping "
   ]
  },
  {
   "cell_type": "code",
   "execution_count": 36,
   "metadata": {},
   "outputs": [
    {
     "data": {
      "text/plain": [
       "32"
      ]
     },
     "execution_count": 36,
     "metadata": {},
     "output_type": "execute_result"
    }
   ],
   "source": [
    "image = cv2.imread(\"blue_car_01.jpg\")\n",
    "cv2.imshow(\"Original\", image)\n",
    "cv2.waitKey(0)\n",
    "\n",
    "flipped = cv2.flip(image, 1)\n",
    "cv2.imshow(\"Flipped Horizontally\", flipped)\n",
    "cv2.waitKey(0)\n",
    "\n",
    "flipped = cv2.flip(image, 0)\n",
    "cv2.imshow(\"Flipped Vertically\", flipped)\n",
    "cv2.waitKey(0)\n",
    "\n",
    "flipped = cv2.flip(image, -1)\n",
    "cv2.imshow(\"Flipped Horizontally and Vertically\", flipped)\n",
    "cv2.waitKey(0)"
   ]
  },
  {
   "cell_type": "markdown",
   "metadata": {},
   "source": [
    "The __cv2.flip__ method requires two arguments: the image we want to flip and a __flip code__ that is used to determine how we are going to flip the image."
   ]
  },
  {
   "cell_type": "markdown",
   "metadata": {},
   "source": [
    "#### Cropping\n",
    "- When we crop an image, we want to remove the outer parts of the image that we are not interested in."
   ]
  },
  {
   "cell_type": "code",
   "execution_count": 37,
   "metadata": {},
   "outputs": [
    {
     "data": {
      "text/plain": [
       "32"
      ]
     },
     "execution_count": 37,
     "metadata": {},
     "output_type": "execute_result"
    }
   ],
   "source": [
    "image = cv2.imread(\"blue_car_01.jpg\")\n",
    "cv2.imshow(\"Original\", image)\n",
    "cv2.waitKey(0)\n",
    "\n",
    "cropped = image[30:120, 240:335]\n",
    "cv2.imshow(\"Cropped\", cropped)\n",
    "cv2.waitKey(0)"
   ]
  },
  {
   "cell_type": "markdown",
   "metadata": {},
   "source": [
    "- OpenCV represents images as NumPy arrays with the height first and the width second.\n",
    "- This means that we need to supply our y-axis values before our x-axis."
   ]
  },
  {
   "cell_type": "markdown",
   "metadata": {},
   "source": [
    "### 2.IMAGE ARITHMETIC\n",
    "- keep in mind that there is a difference between OpenCV and NumPy addition.\n",
    "- NumPy will perform modulus arithmetic and “wrap around”. \n",
    "- OpenCV on the other hand will perform clipping and ensure pixel values never fall outside the range [0, 255]."
   ]
  },
  {
   "cell_type": "code",
   "execution_count": 10,
   "metadata": {},
   "outputs": [
    {
     "name": "stdout",
     "output_type": "stream",
     "text": [
      "max of 255: [[255]]\n",
      "min of 0: [[0]]\n",
      "wrap around: [44]\n",
      "wrap around: [206]\n"
     ]
    }
   ],
   "source": [
    "import numpy as np\n",
    "image = cv2.imread(\"blue_car_01.jpg\")\n",
    "cv2.imshow(\"Original\", image)\n",
    "cv2.waitKey(0)\n",
    "\n",
    "print(\"max of 255: \" + str(cv2.add(np.uint8([200]), np.uint8([100]))))\n",
    "print(\"min of 0: \" + str(cv2.subtract(np.uint8([50]), np.uint8([100]))))\n",
    "print(\"wrap around: \" + str(np.uint8([200]) + np.uint8([100])))\n",
    "print(\"wrap around: \" + str(np.uint8([50]) - np.uint8([100])))"
   ]
  },
  {
   "cell_type": "markdown",
   "metadata": {},
   "source": [
    "let’s perform the arithmetic on actual images and view the results:"
   ]
  },
  {
   "cell_type": "code",
   "execution_count": 39,
   "metadata": {},
   "outputs": [
    {
     "data": {
      "text/plain": [
       "32"
      ]
     },
     "execution_count": 39,
     "metadata": {},
     "output_type": "execute_result"
    }
   ],
   "source": [
    "M = np.ones(image.shape, dtype = \"uint8\") * 100\n",
    "added = cv2.add(image, M)\n",
    "cv2.imshow(\"Added\", added)\n",
    "cv2.waitKey(0)\n",
    "\n",
    "M = np.ones(image.shape, \"uint8\") * 50\n",
    "subtracted = cv2.subtract(image, M)\n",
    "cv2.imshow(\"Subtracted\", subtracted)\n",
    "cv2.waitKey(0)"
   ]
  },
  {
   "cell_type": "markdown",
   "metadata": {},
   "source": [
    "### BITWISE OPERATIONS\n",
    "\n",
    "- Bitwise operations operate in a binary manner and are represented as grayscale images. \n",
    "- A given pixel is turned “off” if it has a value of zero and it is turned “on” if the pixel has a value greater than zero."
   ]
  },
  {
   "cell_type": "code",
   "execution_count": 40,
   "metadata": {},
   "outputs": [
    {
     "data": {
      "text/plain": [
       "32"
      ]
     },
     "execution_count": 40,
     "metadata": {},
     "output_type": "execute_result"
    }
   ],
   "source": [
    "import numpy as np\n",
    "import cv2\n",
    "\n",
    "rectangle = np.zeros((300, 300), dtype = \"uint8\")\n",
    "cv2.rectangle(rectangle, (25, 25), (275, 275), 255, -1)\n",
    "cv2.imshow(\"Rectangle\", rectangle)\n",
    "cv2.waitKey(0)\n",
    "\n",
    "circle = np.zeros((300, 300), dtype=\"uint8\")\n",
    "cv2.circle(circle, (150, 150), 150, 255, -1)\n",
    "cv2.imshow(\"Circle\", circle)\n",
    "cv2.waitKey(0)"
   ]
  },
  {
   "cell_type": "markdown",
   "metadata": {},
   "source": [
    "We will make use of these shapes to demonstrate our bitwise operations:"
   ]
  },
  {
   "cell_type": "code",
   "execution_count": 41,
   "metadata": {},
   "outputs": [
    {
     "data": {
      "text/plain": [
       "32"
      ]
     },
     "execution_count": 41,
     "metadata": {},
     "output_type": "execute_result"
    }
   ],
   "source": [
    "bitwiseAnd = cv2.bitwise_and(rectangle, circle)\n",
    "cv2.imshow(\"AND\", bitwiseAnd)\n",
    "cv2.waitKey(0)\n",
    "\n",
    "bitwiseOr = cv2.bitwise_or(rectangle, circle)\n",
    "cv2.imshow(\"OR\", bitwiseOr)\n",
    "cv2.waitKey(0)\n",
    "\n",
    "bitwiseXor = cv2.bitwise_xor(rectangle, circle)\n",
    "cv2.imshow(\"XOR\", bitwiseXor)\n",
    "cv2.waitKey(0)\n",
    "\n",
    "bitwiseNot = cv2.bitwise_not(circle)\n",
    "cv2.imshow(\"NOT\", bitwiseNot)\n",
    "cv2.waitKey(0)"
   ]
  },
  {
   "cell_type": "code",
   "execution_count": 47,
   "metadata": {},
   "outputs": [],
   "source": [
    "cv2.destroyAllWindows()"
   ]
  },
  {
   "cell_type": "markdown",
   "metadata": {},
   "source": [
    "### MASKING\n",
    "\n",
    "- Using a mask allows us to focus only on the portions of the image that interests us."
   ]
  },
  {
   "cell_type": "code",
   "execution_count": 44,
   "metadata": {},
   "outputs": [
    {
     "data": {
      "text/plain": [
       "32"
      ]
     },
     "execution_count": 44,
     "metadata": {},
     "output_type": "execute_result"
    }
   ],
   "source": [
    "image = cv2.imread(\"blue_car_01.jpg\")\n",
    "cv2.imshow(\"Original\", image)\n",
    "cv2.waitKey(0)\n",
    "\n",
    "mask = np.zeros(image.shape[:2], dtype=\"uint8\")\n",
    "(cX, cY) = (image.shape[1] // 2, image.shape[0] // 2)\n",
    "cv2.rectangle(mask, (cX - 75, cY - 75), (cX + 75, cY + 75), 255, -1)\n",
    "cv2.imshow(\"Mask\", mask)\n",
    "cv2.waitKey(0)\n",
    "\n",
    "masked = cv2.bitwise_and(image, image, mask = mask)\n",
    "cv2.imshow(\"Maks Applied to Image\", masked)\n",
    "cv2.waitKey(0)"
   ]
  },
  {
   "cell_type": "markdown",
   "metadata": {},
   "source": [
    "- By supplying a mask, the cv2.bitwise_and function only examines pixels that are “on” in the mask. \n",
    "- In this case, only pixels that are part of the white rectangle."
   ]
  },
  {
   "cell_type": "code",
   "execution_count": 46,
   "metadata": {},
   "outputs": [
    {
     "data": {
      "text/plain": [
       "32"
      ]
     },
     "execution_count": 46,
     "metadata": {},
     "output_type": "execute_result"
    }
   ],
   "source": [
    "mask = np.zeros(image.shape[:2], dtype = \"uint8\")\n",
    "cv2.circle(mask, (cX, cY), 100, 255, -1)\n",
    "masked = cv2.bitwise_and(image, image, mask = mask)\n",
    "cv2.imshow(\"Mask\", mask)\n",
    "cv2.imshow(\"Mask Applied to Image\", masked)\n",
    "cv2.waitKey(0)"
   ]
  },
  {
   "cell_type": "markdown",
   "metadata": {},
   "source": [
    "### SPLITTING AND MERGING CHANNELS "
   ]
  },
  {
   "cell_type": "code",
   "execution_count": 1,
   "metadata": {},
   "outputs": [],
   "source": [
    "import numpy as np\n",
    "import cv2"
   ]
  },
  {
   "cell_type": "code",
   "execution_count": 48,
   "metadata": {},
   "outputs": [],
   "source": [
    "image = cv2.imread(\"blue_car_01.jpg\")\n",
    "(B, G, R) = cv2.split(image)\n",
    "\n",
    "cv2.imshow(\"Red\", R)\n",
    "cv2.imshow(\"Green\", G)\n",
    "cv2.imshow(\"Blue\", B)\n",
    "cv2.waitKey(0)\n",
    "\n",
    "merged = cv2.merge([B, G, R])\n",
    "cv2.imshow(\"Merged\", merged)\n",
    "cv2.waitKey(0)\n",
    "cv2.destroyAllWindows()"
   ]
  },
  {
   "cell_type": "markdown",
   "metadata": {},
   "source": [
    "- Splitting the channels is done using a call to cv2.split\n",
    "- OpenCV stores RGB images as NumPy arrays in reverse channel order."
   ]
  },
  {
   "cell_type": "code",
   "execution_count": 49,
   "metadata": {},
   "outputs": [],
   "source": [
    "zeros = np.zeros(image.shape[:2], dtype = \"uint8\")\n",
    "cv2.imshow(\"Red\", cv2.merge([zeros, zeros, R]))\n",
    "cv2.imshow(\"Green\", cv2.merge([zeros, G, zeros]))\n",
    "cv2.imshow(\"Blue\", cv2.merge([B, zeros, zeros]))\n",
    "cv2.waitKey(0)\n",
    "cv2.destroyAllWindows()"
   ]
  },
  {
   "cell_type": "markdown",
   "metadata": {},
   "source": [
    "### COLOR SPACES\n",
    "- The Hue-Saturation-Value (HSV) color space is more similar to how humans think and conceive of color. \n",
    "- Then there is the L*a*b* color space which is more tuned to how humans perceive color."
   ]
  },
  {
   "cell_type": "markdown",
   "metadata": {},
   "source": [
    "Let’s explore some code to change color spaces."
   ]
  },
  {
   "cell_type": "code",
   "execution_count": 50,
   "metadata": {},
   "outputs": [],
   "source": [
    "image = cv2.imread(\"blue_car_01.jpg\")\n",
    "cv2.imshow(\"Original\", image)\n",
    "\n",
    "gray = cv2.cvtColor(image, cv2.COLOR_BGR2GRAY)\n",
    "cv2.imshow(\"Gray\", gray)\n",
    "\n",
    "hsv = cv2.cvtColor(image, cv2.COLOR_BGR2HSV)\n",
    "cv2.imshow(\"HSV\", hsv)\n",
    "\n",
    "lab = cv2.cvtColor(image, cv2.COLOR_BGR2LAB)\n",
    "cv2.imshow(\"L*a*b\", lab)\n",
    "cv2.waitKey(0)\n",
    "cv2.destroyAllWindows()"
   ]
  },
  {
   "cell_type": "markdown",
   "metadata": {},
   "source": [
    "## HISTOGRAMS\n",
    "- A histogram represents the distribution of pixel intensities (whether color or grayscale) in an image. \n",
    "- By simply examining the histogram of an image, you get a general understanding regarding the contrast, brightness, and intensity distribution. "
   ]
  },
  {
   "cell_type": "markdown",
   "metadata": {},
   "source": [
    "#### 1.USING OPENCV TO COMPUTE HISTOGRAMS\n",
    "\n",
    "- cv2.calcHist(images,channels,mask,histSize,ranges)"
   ]
  },
  {
   "cell_type": "markdown",
   "metadata": {},
   "source": [
    "#### 2.GRAYSCALE HISTOGRAMS"
   ]
  },
  {
   "cell_type": "code",
   "execution_count": 52,
   "metadata": {},
   "outputs": [],
   "source": [
    "import matplotlib.pyplot as plt\n",
    "import cv2"
   ]
  },
  {
   "cell_type": "code",
   "execution_count": 54,
   "metadata": {},
   "outputs": [
    {
     "data": {
      "image/png": "[encoded data removed]",
      "text/plain": [
       "<Figure size 432x288 with 1 Axes>"
      ]
     },
     "metadata": {
      "needs_background": "light"
     },
     "output_type": "display_data"
    }
   ],
   "source": [
    "image = cv2.imread(\"blue_car_01.jpg\")\n",
    "image = cv2.cvtColor(image, cv2.COLOR_BGR2GRAY)\n",
    "cv2.imshow(\"Original\", image)\n",
    "\n",
    "hist = cv2.calcHist([image], [0], None, [256], [0, 256])\n",
    "\n",
    "plt.figure()\n",
    "plt.title(\"Grayscale Histogram\")\n",
    "plt.xlabel(\"Bins\")\n",
    "plt.ylabel(\"# of pixels\")\n",
    "plt.plot(hist)\n",
    "plt.xlim([0, 256])\n",
    "plt.show()\n",
    "cv2.waitKey(0)\n",
    "cv2.destroyWindow(\"Original\")"
   ]
  },
  {
   "cell_type": "markdown",
   "metadata": {},
   "source": [
    "How do we interpret this histogram? We can observe that there are many pixels between 50-100 and also around 250.\n",
    "This means that the image contains both the dark pixels as well as the white pixels."
   ]
  },
  {
   "cell_type": "markdown",
   "metadata": {},
   "source": [
    "#### 3.COLOR HISTOGRAMS"
   ]
  },
  {
   "cell_type": "code",
   "execution_count": 55,
   "metadata": {},
   "outputs": [
    {
     "data": {
      "image/png": "[encoded data removed]",
      "text/plain": [
       "<Figure size 432x288 with 1 Axes>"
      ]
     },
     "metadata": {
      "needs_background": "light"
     },
     "output_type": "display_data"
    },
    {
     "data": {
      "text/plain": [
       "32"
      ]
     },
     "execution_count": 55,
     "metadata": {},
     "output_type": "execute_result"
    }
   ],
   "source": [
    "image = cv2.imread(\"blue_car_01.jpg\")\n",
    "cv2.imshow(\"Original\", image)\n",
    "chans = cv2.split(image)\n",
    "colors = (\"b\", \"g\", \"r\")\n",
    "plt.figure()\n",
    "plt.title(\"'Flattened' Color Histogram\")\n",
    "plt.xlabel(\"Bins\")\n",
    "plt.ylabel(\"# of Pixels\")\n",
    "\n",
    "for (chan, color) in zip(chans, colors):\n",
    "    hist = cv2.calcHist([chan], [0], None, [256], [0, 256])\n",
    "    plt.plot(hist, color=color)\n",
    "    plt.xlim([0, 256])\n",
    "plt.show()\n",
    "cv2.waitKey(0)"
   ]
  },
  {
   "cell_type": "markdown",
   "metadata": {},
   "source": [
    "- We see there is a sharp peak in the red histogram around bin 25. This indicates a darker red value.\n",
    "- A sharp peak in the green histogram around bin 80. This indicates a darker green value.\n",
    "- A sharp peal in the blue histogram around bin 170.This indicates a slightly lighter blue values.\n",
    "- At around bin 250 all three colors r,g,b are peaked again indicating darker values for all."
   ]
  },
  {
   "cell_type": "markdown",
   "metadata": {},
   "source": [
    "Let’s checkout some code to automate the process of building a 2D histogram:"
   ]
  },
  {
   "cell_type": "code",
   "execution_count": 36,
   "metadata": {},
   "outputs": [
    {
     "name": "stdout",
     "output_type": "stream",
     "text": [
      "2D histogram shape: (32, 32), with 1024 values\n"
     ]
    },
    {
     "data": {
      "image/png": "[encoded data removed]",
      "text/plain": [
       "<Figure size 1008x360 with 6 Axes>"
      ]
     },
     "metadata": {
      "needs_background": "light"
     },
     "output_type": "display_data"
    }
   ],
   "source": [
    "fig = plt.figure(figsize=(14, 5))\n",
    "\n",
    "ax = fig.add_subplot(131)\n",
    "hist = cv2.calcHist([chans[1], chans[0]], [0, 1], None, [32, 32], [0, 256, 0, 256])\n",
    "p = ax.imshow(hist, interpolation = \"nearest\")\n",
    "ax.set_title(\"2D Color Histogram for G and B\")\n",
    "plt.colorbar(p)\n",
    "\n",
    "ax = fig.add_subplot(132)\n",
    "hist = cv2.calcHist([chans[1], chans[2]], [0, 1], None, [32, 32], [0, 256, 0, 256])\n",
    "p = ax.imshow(hist, interpolation = \"nearest\")\n",
    "ax.set_title(\"2D Color Histogram for G and R\")\n",
    "plt.colorbar(p)\n",
    "\n",
    "ax = fig.add_subplot(133)\n",
    "hist = cv2.calcHist([chans[0], chans[2]], [0, 1], None, [32, 32], [0, 256, 0, 256])\n",
    "p = ax.imshow(hist, interpolation = \"nearest\")\n",
    "ax.set_title(\"2D  Color Histogram for B and R\")\n",
    "plt.colorbar(p)\n",
    "\n",
    "print(\"2D histogram shape: %s, with %d values\" % (hist.shape, hist.flatten().shape[0]))"
   ]
  },
  {
   "cell_type": "markdown",
   "metadata": {},
   "source": [
    "- Here we see that we are passing in a list of two channels: the Green and Blue channels.\n",
    "- So how is a 2D histogram stored in OpenCV? It’s a 2D NumPy array. Since I used 32 bins for each channel, I now have a 32 × 32 histogram.\n",
    "- Most applications use somewhere between 8 and 64 bins when computing multi-dimensional histograms."
   ]
  },
  {
   "cell_type": "markdown",
   "metadata": {},
   "source": [
    "Using a 2D histogram takes into account two channels at a time. But what if we wanted to account for all three RGB channels?"
   ]
  },
  {
   "cell_type": "code",
   "execution_count": 39,
   "metadata": {},
   "outputs": [
    {
     "name": "stdout",
     "output_type": "stream",
     "text": [
      "3D histogram shape : (8, 8, 8), with 512 values\n"
     ]
    }
   ],
   "source": [
    "hist = cv2.calcHist([image], [0, 1, 2], None, [8, 8, 8], [0, 256, 0, 256, 0, 256])\n",
    "print(\"3D histogram shape : %s, with %d values\" % (hist.shape, hist.flatten().shape[0]))"
   ]
  },
  {
   "cell_type": "markdown",
   "metadata": {},
   "source": [
    "- We are now computing an 8 × 8 × 8 histogram for each of the RGB channels. \n",
    "- We can’t visualize this histogram, but we can see that the shape is indeed (8,8,8) with 512 values."
   ]
  },
  {
   "cell_type": "markdown",
   "metadata": {},
   "source": [
    "#### 4.HISTOGRAM EQUALIZATION\n",
    "- Histogram equalization improves the contrast of an image by __“stretching”__ the distribution of pixels.\n",
    "- Histogram equalization is applied to __grayscale__ images.\n",
    "- is normally useful when enhancing the contrast of medical or satellite images."
   ]
  },
  {
   "cell_type": "code",
   "execution_count": 57,
   "metadata": {},
   "outputs": [],
   "source": [
    "import numpy as np\n",
    "import cv2\n",
    "\n",
    "image = cv2.imread(\"blue_car_01.jpg\")\n",
    "image = cv2.cvtColor(image, cv2.COLOR_BGR2GRAY)\n",
    "\n",
    "eq = cv2.equalizeHist(image)\n",
    "\n",
    "cv2.imshow(\"Histogram Equalization\", np.hstack([image, eq]))\n",
    "cv2.waitKey(0)\n",
    "cv2.destroyAllWindows()"
   ]
  },
  {
   "cell_type": "markdown",
   "metadata": {},
   "source": [
    "Notice how the contrast of the image has been radically changed and now spans the entire range of [0, 255]."
   ]
  },
  {
   "cell_type": "markdown",
   "metadata": {},
   "source": [
    "#### 5.HISTOGRAMS AND MASKS\n",
    "- masks can be used to focus on only regions of an image that interest us.\n",
    "- We are now going to construct a mask and compute color histograms for only the masked region."
   ]
  },
  {
   "cell_type": "code",
   "execution_count": 43,
   "metadata": {},
   "outputs": [],
   "source": [
    "import numpy as np\n",
    "import cv2\n",
    "import matplotlib.pyplot as plt\n",
    "\n",
    "def plot_histogram(image, title, mask = None):\n",
    "    chans = cv2.split(image)\n",
    "    colors = ('b', 'g', 'r')\n",
    "    plt.figure()\n",
    "    plt.title(title)\n",
    "    plt.xlabel(\"Bins\")\n",
    "    plt.ylabel(\"# of pixels\")\n",
    "    \n",
    "    for (chan, color) in zip(chans, colors):\n",
    "        hist = cv2.calcHist([chan], [0], mask, [256], [0, 256])o\n",
    "        plt.plot(hist, color = color)\n",
    "        plt.xlim([0, 256])"
   ]
  },
  {
   "cell_type": "code",
   "execution_count": 60,
   "metadata": {},
   "outputs": [
    {
     "data": {
      "image/png": "[encoded data removed]",
      "text/plain": [
       "<Figure size 432x288 with 1 Axes>"
      ]
     },
     "metadata": {
      "needs_background": "light"
     },
     "output_type": "display_data"
    }
   ],
   "source": [
    "image = cv2.imread(\"blue_car_01.jpg\")\n",
    "cv2.imshow(\"Original\", image)\n",
    "plot_histogram(image, \"Histogram for Original Image\")\n",
    "cv2.waitKey(0)\n",
    "\n",
    "mask = np.zeros(image.shape[:2], dtype = \"uint8\")\n",
    "cv2.rectangle(mask, (25, 128), (75, 180), 255, -1)\n",
    "cv2.imshow(\"Mask\", mask)\n",
    "cv2.waitKey(0)\n",
    "\n",
    "masked = cv2.bitwise_and(image, image, mask = mask)\n",
    "cv2.imshow(\"Applying the Mask\", masked)\n",
    "cv2.waitKey(0)\n",
    "cv2.destroyAllWindows()"
   ]
  },
  {
   "cell_type": "code",
   "execution_count": 47,
   "metadata": {},
   "outputs": [
    {
     "data": {
      "image/png": "[encoded data removed]",
      "text/plain": [
       "<Figure size 432x288 with 1 Axes>"
      ]
     },
     "metadata": {
      "needs_background": "light"
     },
     "output_type": "display_data"
    }
   ],
   "source": [
    "plot_histogram(image, \"Histogram for Masked Image\", mask)\n",
    "plt.show()"
   ]
  },
  {
   "cell_type": "markdown",
   "metadata": {},
   "source": [
    "## SMOOTHING AND BLURRING\n",
    "\n",
    "- In fact, many image processing and computer vision functions, such as thresholding and edge detection, perform better if the image is first smoothed or blurred."
   ]
  },
  {
   "cell_type": "code",
   "execution_count": 58,
   "metadata": {},
   "outputs": [
    {
     "data": {
      "text/plain": [
       "32"
      ]
     },
     "execution_count": 58,
     "metadata": {},
     "output_type": "execute_result"
    }
   ],
   "source": [
    "import numpy as np\n",
    "import cv2\n",
    "\n",
    "image = cv2.imread(\"blue_car_01.jpg\")\n",
    "cv2.imshow(\"Original\", image)\n",
    "cv2.waitKey(0)"
   ]
  },
  {
   "cell_type": "markdown",
   "metadata": {},
   "source": [
    "#### 1.AVERAGING\n",
    "\n",
    "- The first blurring method we are going to explore is averaging.\n",
    "- As the name suggests, we are going to define a k × k sliding window on top of our image, where k is always an odd number.\n",
    "- The pixel at the center of this matrix  is then set to be the average of all other pixels surrounding it.\n",
    "- We call this sliding window a “convolution kernel” or just a “kernel”.\n",
    "- As we will see, as the size of the kernel increases, the more blurred our image will become."
   ]
  },
  {
   "cell_type": "code",
   "execution_count": 60,
   "metadata": {},
   "outputs": [],
   "source": [
    "blurred = np.hstack([cv2.blur(image, (3, 3)),\n",
    "                    cv2.blur(image, (5, 5)),\n",
    "                    cv2.blur(image, (7, 7))])\n",
    "cv2.imshow(\"Blurred\", blurred)\n",
    "cv2.waitKey(0)\n",
    "cv2.destroyAllWindows()"
   ]
  },
  {
   "cell_type": "markdown",
   "metadata": {},
   "source": [
    "In order to average blur an image, we use the __cv2.blur__ function. This function requires two arguments: the image we want to blur and the size of the kernel."
   ]
  },
  {
   "cell_type": "markdown",
   "metadata": {},
   "source": [
    "#### 2.GAUSSIAN\n",
    "- Gaussian blurring is similar to average blurring, but instead of using a simple mean, we are now using a weighted mean, where neighborhood pixels that are closer to the central pixel contribute more “weight” to the average.\n",
    "- The end result is that our image is less blurred, but more naturally blurred, than using the average method."
   ]
  },
  {
   "cell_type": "code",
   "execution_count": 61,
   "metadata": {},
   "outputs": [],
   "source": [
    "blurred = np.hstack([cv2.GaussianBlur(image, (3, 3), 0),\n",
    "                    cv2.GaussianBlur(image, (5, 5), 0),\n",
    "                    cv2.GaussianBlur(image, (7, 7), 0)])\n",
    "cv2.imshow(\"Gaussian\", blurred)\n",
    "cv2.waitKey(0)\n",
    "cv2.destroyAllWindows()"
   ]
  },
  {
   "cell_type": "markdown",
   "metadata": {},
   "source": [
    "- The last parameter is our σ, the standard deviation in the\n",
    "x-axis direction. By setting this value to 0, we are instructing OpenCV to automatically compute them based on our\n",
    "kernel size.\n",
    "- the blur itself is\n",
    "more natural, due to the computation of the weighted mean,\n",
    "rather than allowing all pixels in the kernel neighborhood\n",
    "to have equal weight."
   ]
  },
  {
   "cell_type": "markdown",
   "metadata": {},
   "source": [
    "#### 3.MEDIAN\n",
    "\n",
    "- replacing the central pixel with the median of the neighborhood. \n",
    "- Methods such as averaging and Gaussian compute means or weighted means for the neighborhood – this average pixel intensity may or may not be present in the neighborhood. But by definition, the median pixel must exist in our neighborhood. By replacing our central pixel with a median rather than an average, we can substantially reduce noise.\n"
   ]
  },
  {
   "cell_type": "code",
   "execution_count": 64,
   "metadata": {},
   "outputs": [],
   "source": [
    "blurred = np.hstack([cv2.medianBlur(image, 3),\n",
    "                    cv2.medianBlur(image, 5),\n",
    "                    cv2.medianBlur(image, 7)])\n",
    "cv2.imshow(\"Median\", blurred)\n",
    "cv2.waitKey(0)\n",
    "cv2.destroyWindow(\"Median\")"
   ]
  },
  {
   "cell_type": "markdown",
   "metadata": {},
   "source": [
    "- Notice that we are no longer creating a “motion blur” effect like in averaging and Gaussian blurring – instead, we are removing detail and noise."
   ]
  },
  {
   "cell_type": "markdown",
   "metadata": {},
   "source": [
    "#### 4.BILATERAL\n",
    "- Thus far, the intention of our blurring methods have been to reduce noise and detail in an image; however, we tend to lose edges in the image.\n",
    "- In order to reduce noise while still maintaining edges, we can use bilateral blurring."
   ]
  },
  {
   "cell_type": "code",
   "execution_count": 65,
   "metadata": {},
   "outputs": [],
   "source": [
    "blurred = np.hstack([cv2.bilateralFilter(image, 5, 21, 21),\n",
    "                    cv2.bilateralFilter(image, 7, 31, 31),\n",
    "                    cv2.bilateralFilter(image, 9, 41, 41)])\n",
    "cv2.imshow(\"Bilateral\", blurred)\n",
    "cv2.waitKey(0)\n",
    "cv2.destroyWindow(\"Bilateral\")"
   ]
  },
  {
   "cell_type": "markdown",
   "metadata": {},
   "source": [
    "- our image has noised removed, yet still retains edges and does not appear to be “motion blurred”."
   ]
  },
  {
   "cell_type": "markdown",
   "metadata": {},
   "source": [
    "## THRESHOLDING\n",
    "\n",
    "- Thresholding is the binarization of an image. In general, we seek to convert a grayscale image to a binary image, where the pixels are either 0 or 255.\n",
    "- Normally, we use thresholding to focus on objects or areas of particular interest in an image."
   ]
  },
  {
   "cell_type": "markdown",
   "metadata": {},
   "source": [
    "#### 1.SIMPLE THRESHOLDING "
   ]
  },
  {
   "cell_type": "code",
   "execution_count": 2,
   "metadata": {},
   "outputs": [],
   "source": [
    "import numpy as np\n",
    "import cv2\n",
    "\n",
    "image = cv2.imread(\"blue_car_01.jpg\")\n",
    "image = cv2.cvtColor(image, cv2.COLOR_BGR2GRAY)\n",
    "blurred = cv2.GaussianBlur(image, (5, 5), 0) \n",
    "# Applying Gaussian blurring helps remove some of the high frequency edges in the image that we are not concerned with.\n",
    "cv2.imshow(\"Image\", image)\n",
    "cv2.waitKey(0)\n",
    "\n",
    "(T, thresh) = cv2.threshold(blurred, 155, 255, cv2.THRESH_BINARY)\n",
    "cv2.imshow(\"Threshold Binary\", thresh)\n",
    "cv2.waitKey(0)\n",
    "\n",
    "(T, threshInv) = cv2.threshold(blurred, 155, 255, cv2.THRESH_BINARY_INV)\n",
    "cv2.imshow(\"Threshold Binary Inverse\", threshInv)\n",
    "cv2.waitKey(0)\n",
    "\n",
    "cv2.imshow(\"Van\", cv2.bitwise_and(image, image, mask = threshInv))\n",
    "cv2.waitKey(0)\n",
    "cv2.destroyAllWindows()"
   ]
  },
  {
   "cell_type": "markdown",
   "metadata": {},
   "source": [
    "#### 2.ADAPTIVE THRESHOLDING\n",
    "- We can use adaptive thresholding, which considers small neighbors of pixels and then finds an optimal threshold value T for each neighbor. \n",
    "- This method allows us to handle cases where there may be dramatic ranges of pixel intensities and the optimal value of T may change for different parts of the image."
   ]
  },
  {
   "cell_type": "code",
   "execution_count": 3,
   "metadata": {},
   "outputs": [],
   "source": [
    "import numpy as np\n",
    "import cv2\n",
    "\n",
    "image = cv2.imread(\"blue_car_01.jpg\")\n",
    "image = cv2.cvtColor(image, cv2.COLOR_BGR2GRAY)\n",
    "blurred = cv2.GaussianBlur(image, (5, 5), 0)\n",
    "cv2.imshow(\"Image\", image)\n",
    "cv2.waitKey(0)\n",
    "\n",
    "# Mean Adaptive Thresholding\n",
    "thresh = cv2.adaptiveThreshold(blurred, 255, cv2.ADAPTIVE_THRESH_MEAN_C, cv2.THRESH_BINARY_INV, 11, 4)\n",
    "cv2.imshow(\"Mean Thresh\", thresh)\n",
    "cv2.waitKey(0)\n",
    "\n",
    "# Gaussian Adaptive Thresholding\n",
    "thresh = cv2.adaptiveThreshold(blurred, 255, cv2.ADAPTIVE_THRESH_GAUSSIAN_C, cv2.THRESH_BINARY_INV, 15, 3)\n",
    "cv2.imshow(\"Gaussian Thresh\", thresh)\n",
    "cv2.waitKey(0)\n",
    "cv2.destroyAllWindows()"
   ]
  },
  {
   "cell_type": "markdown",
   "metadata": {},
   "source": [
    "#### 3.OTSU AND RIDDLER-CALVARD\n",
    "\n",
    "- Another way we can automatically compute the threshold value of T is to use Otsu’s method.\n",
    "- Otsu’s method assumes there are two peaks in the grayscale histogram of the image. In then tries to find an optimal value to separate these two peaks – thus our value of T."
   ]
  },
  {
   "cell_type": "code",
   "execution_count": 4,
   "metadata": {},
   "outputs": [],
   "source": [
    "import numpy as np\n",
    "import cv2\n",
    "import mahotas  # another image processing package"
   ]
  },
  {
   "cell_type": "code",
   "execution_count": 5,
   "metadata": {},
   "outputs": [
    {
     "name": "stdout",
     "output_type": "stream",
     "text": [
      "Otsu's threshold: 127\n"
     ]
    }
   ],
   "source": [
    "image = cv2.imread(\"blue_car_01.jpg\")\n",
    "image = cv2.cvtColor(image, cv2.COLOR_BGR2GRAY)\n",
    "blurred = cv2.GaussianBlur(image, (5, 5), 0)\n",
    "cv2.imshow(\"Image\", image)\n",
    "cv2.waitKey(0)\n",
    "\n",
    "T = mahotas.thresholding.otsu(blurred)\n",
    "print(\"Otsu's threshold: %d\" % T)"
   ]
  },
  {
   "cell_type": "code",
   "execution_count": 6,
   "metadata": {},
   "outputs": [
    {
     "name": "stdout",
     "output_type": "stream",
     "text": [
      "Riddler-Calvard: 127\n"
     ]
    }
   ],
   "source": [
    "thresh = image.copy()\n",
    "thresh[thresh > T] = 255\n",
    "thresh[thresh < 255] = 0\n",
    "\n",
    "thresh = cv2.bitwise_not(thresh)  #equivalent to applying a cv2.THRESH_BINARY_INV thresholding type\n",
    "cv2.imshow(\"Otsu\", thresh)\n",
    "cv2.waitKey(0)\n",
    "\n",
    "T = mahotas.thresholding.rc(blurred)\n",
    "print(\"Riddler-Calvard: %d\" % T)\n",
    "\n",
    "thresh = image.copy()\n",
    "thresh[thresh > T] = 255\n",
    "thresh[thresh < 255] = 0\n",
    "thresh = cv2.bitwise_not(thresh)\n",
    "cv2.imshow(\"Riddler-Calvard\", thresh)\n",
    "cv2.waitKey(0)\n",
    "cv2.destroyAllWindows()"
   ]
  },
  {
   "cell_type": "markdown",
   "metadata": {},
   "source": [
    "## GRADIENT AND EDGE DETECTION\n",
    "\n",
    "-  edge detection embodies mathematical methods to find points in an image where the brightness of pixel intensities changes distinctly."
   ]
  },
  {
   "cell_type": "markdown",
   "metadata": {},
   "source": [
    "#### 1.LAPLACIAN AND SOBEL "
   ]
  },
  {
   "cell_type": "code",
   "execution_count": 11,
   "metadata": {},
   "outputs": [],
   "source": [
    "import numpy as np\n",
    "import cv2\n",
    "\n",
    "image = cv2.imread(\"blue_car_01.jpg\")\n",
    "image = cv2.cvtColor(image, cv2.COLOR_BGR2GRAY)\n",
    "cv2.imshow(\"Original\", image)\n",
    "cv2.waitKey(0)\n",
    "\n",
    "lap = cv2.Laplacian(image, cv2.CV_64F)\n",
    "lap = np.uint8(np.absolute(lap))\n",
    "cv2.imshow(\"Laplacian\", lap)\n",
    "cv2.waitKey(0)\n",
    "cv2.destroyAllWindows()"
   ]
  },
  {
   "cell_type": "markdown",
   "metadata": {},
   "source": [
    "- When computing gradients and edges we (normally) compute them on a single channel – in this case, we are using the grayscale image.\n",
    "- we use the Laplacian method to compute the gradient magnitude image by calling the cv2.Laplacian function.\n",
    "- Why are we using a 64-bit float now? \n",
    "    - The reason involves the transition of black-to-white and white-to-black in the image.\n",
    "    - Transitioning from black-to-white is considered a positive slope, whereas a transition from white-to-black is a negative slope.\n",
    "    - The short answer here is that if you don’t use a floating point data type when computing the gradient magnitude image, you will miss edges, specifically the white-to-black transitions.\n",
    "    - In order to ensure you catch all edges, use a floating point data type, then take the absolute value of the gradient image and convert it back to an 8-bit unsigned integer."
   ]
  },
  {
   "cell_type": "markdown",
   "metadata": {},
   "source": [
    "Let’s move on to computing the __Sobel gradient__ representation:"
   ]
  },
  {
   "cell_type": "code",
   "execution_count": 15,
   "metadata": {},
   "outputs": [],
   "source": [
    "sobelX = cv2.Sobel(image, cv2.CV_64F, 1, 0)\n",
    "sobelY = cv2.Sobel(image, cv2.CV_64F, 0, 1)\n",
    "\n",
    "sobelX = np.uint8(np.absolute(sobelX))\n",
    "sobelY = np.uint8(np.absolute(sobelY))\n",
    "\n",
    "sobelCombined = cv2.bitwise_or(sobelX, sobelY)\n",
    "\n",
    "cv2.imshow(\"Sobel X\", sobelX)\n",
    "cv2.imshow(\"Sobel Y\", sobelY)\n",
    "cv2.imshow(\"Sobel Combined\", sobelCombined)\n",
    "cv2.waitKey(0)\n",
    "cv2.destroyAllWindows()"
   ]
  },
  {
   "cell_type": "markdown",
   "metadata": {},
   "source": [
    "- Using the Sobel operator, we can compute gradient magnitude representations along the x and y axis, allowing us to find both horizontal and vertical edge-like regions.\n",
    "- Computing the Sobel gradient magnitude along the x-axis is finding vertical edges.\n",
    "- Computing the Sobel gradient magnitude along the y-axis is finding horizontal edges."
   ]
  },
  {
   "cell_type": "markdown",
   "metadata": {},
   "source": [
    "- One thing you’ll notice is that the edges are very “noisy”. They are not clean and crisp.\n",
    "- We’ll remedy that by using the Canny edge detector in the next section."
   ]
  },
  {
   "cell_type": "markdown",
   "metadata": {},
   "source": [
    "#### 2.CANNY EDGE DETECTOR\n",
    "- The Canny edge detector is a multi-step process. \n",
    "- It involves :- \n",
    "    - blurring the image to remove noise, \n",
    "    - computing Sobel gradient images in the x and y direction, \n",
    "    - suppression of edges, and \n",
    "    - finally a hysteresis thresholding stage that determines if a pixel is “edge-like” or not."
   ]
  },
  {
   "cell_type": "code",
   "execution_count": 16,
   "metadata": {},
   "outputs": [],
   "source": [
    "image = cv2.imread(\"blue_car_01.jpg\")\n",
    "image = cv2.cvtColor(image, cv2.COLOR_BGR2GRAY)\n",
    "image = cv2.GaussianBlur(image, (5, 5), 0)\n",
    "cv2.imshow(\"Blurred\", image)\n",
    "cv2.waitKey(0)\n",
    "\n",
    "canny = cv2.Canny(image, 30, 150)\n",
    "cv2.imshow(\"Canny\", canny)\n",
    "cv2.waitKey(0)\n",
    "cv2.destroyAllWindows()"
   ]
  },
  {
   "cell_type": "markdown",
   "metadata": {},
   "source": [
    "- Any gradient value larger than threshold2 are considered to be an edge.Any value below threshold1 are considered not to be an edge. \n",
    "- Values in between threshold1 and threshold2 are either classified as edges or non-edges based on how their intensities are “connected”. \n",
    "- In this case, any gradient values below 30 are considered non-edges whereas any value above 150 are considered edges."
   ]
  },
  {
   "cell_type": "markdown",
   "metadata": {},
   "source": [
    "- Notice how the edges are more “crisp”. We have substantially less noise than we used the Laplacian or Sobel\n",
    "gradient images. Furthermore, the outline of our vehicle is clearly revealed."
   ]
  },
  {
   "cell_type": "markdown",
   "metadata": {},
   "source": [
    "## CONTOURS\n",
    "- OpenCV provides methods to find “curves” in an image, called contours.\n",
    "- A contour is a curve of points, with no gaps in the curve. \n",
    "- Contours are extremely useful for such things as shape approximation and analysis.\n",
    "- In order to find contours in an image, you need to first obtain a binarization of the image, using either edge detection methods or thresholding."
   ]
  },
  {
   "cell_type": "markdown",
   "metadata": {},
   "source": [
    "#### 1.COUNTING COINS "
   ]
  },
  {
   "cell_type": "code",
   "execution_count": 17,
   "metadata": {},
   "outputs": [
    {
     "name": "stdout",
     "output_type": "stream",
     "text": [
      "I count 18 coins in this image\n"
     ]
    }
   ],
   "source": [
    "import numpy as np\n",
    "import cv2\n",
    "\n",
    "image = cv2.imread(\"coins.png\")\n",
    "gray = cv2.cvtColor(image, cv2.COLOR_BGR2GRAY)\n",
    "blurred = cv2.GaussianBlur(image, (19, 19), 0)\n",
    "cv2.imshow(\"Image\", image)\n",
    "cv2.waitKey(0)\n",
    "\n",
    "edged = cv2.Canny(blurred, 30, 150)\n",
    "cv2.imshow(\"Edges\", edged)\n",
    "cv2.waitKey(0)\n",
    "\n",
    "(cnts, _) = cv2.findContours(edged.copy(), cv2.RETR_EXTERNAL, cv2.CHAIN_APPROX_SIMPLE)\n",
    "\n",
    "print(\"I count %d coins in this image\" % (len(cnts)))\n",
    "\n",
    "coins = image.copy()\n",
    "cv2.drawContours(coins, cnts, -1, (0, 255, 0), 2)\n",
    "cv2.imshow(\"Coins\", coins)\n",
    "cv2.waitKey(0)\n",
    "cv2.destroyAllWindows()"
   ]
  },
  {
   "cell_type": "markdown",
   "metadata": {},
   "source": [
    "- The second argument is the type of contours we want.We use __cv2.RETR_EXTERNAL__ to retrieve only the outermost contours (i.e. the contours that follow the outline of the coin). We could also pass in __cv2.RETR_LIST__ to grab all contours. Other methods include hierarchical contours using cv2.RETR_COMP and cv2.RETR_TREE.\n",
    "- Our last argument is how we want to approximate the contour. We use __cv2.CHAIN_APPROX_SIMPLE__ to compress horizontal, vertical, and diagonal segments into only their endpoints.\n",
    "- Our contours __cnts__ is simply a Python list. We can use the len function on it to count the number of contours that were returned.\n",
    "- A call to __cv2.drawContours__ draws the actual contours on our image.\n",
    "- By specifying a negative value of −1, we are indicating that we want to draw all of the contours."
   ]
  },
  {
   "cell_type": "markdown",
   "metadata": {},
   "source": [
    "Let’s __crop__ each individual coin from the image:"
   ]
  },
  {
   "cell_type": "code",
   "execution_count": 19,
   "metadata": {},
   "outputs": [
    {
     "name": "stdout",
     "output_type": "stream",
     "text": [
      "Coin #1\n",
      "Coin #2\n",
      "Coin #3\n",
      "Coin #4\n",
      "Coin #5\n",
      "Coin #6\n",
      "Coin #7\n",
      "Coin #8\n",
      "Coin #9\n",
      "Coin #10\n",
      "Coin #11\n",
      "Coin #12\n",
      "Coin #13\n",
      "Coin #14\n",
      "Coin #15\n",
      "Coin #16\n",
      "Coin #17\n",
      "Coin #18\n"
     ]
    }
   ],
   "source": [
    "for (i, c) in enumerate(cnts):\n",
    "    (x, y, w, h) = cv2.boundingRect(c)\n",
    "    \n",
    "    print(\"Coin #%d\" % (i + 1))\n",
    "    coin = image[y:y + h, x:x + w]\n",
    "    cv2.imshow(\"Coin\"+str(i+1), coin)\n",
    "    cv2.waitKey(0)\n",
    "    \n",
    "    mask = np.zeros(image.shape[:2], dtype = \"uint8\")\n",
    "    ((centerX, centerY), radius) = cv2.minEnclosingCircle(c)\n",
    "    cv2.circle(mask, (int(centerX), int(centerY)), int(radius), 255, -1)\n",
    "    mask = mask[y:y + h, x:x+w]\n",
    "    cv2.imshow(\"Masked Coin\"+str(i+1), cv2.bitwise_and(coin, coin, mask = mask))\n",
    "    cv2.waitKey(0)\n",
    "    cv2.destroyAllWindows()"
   ]
  },
  {
   "cell_type": "markdown",
   "metadata": {},
   "source": [
    "- We then use the __cv2.boundingRect__ function on the current contour. This method finds the “enclosing box” that our contour will fit into, allowing us to crop it from the image. The function takes a single parameter, a contour, and then returns a tuple of the x and y position that the rectangle starts at, followed by the width and height of the rectangle.\n",
    "-  A call to __cv2.minEnclosingCircle__ fits a circle to our contour. We pass in a circle variable, the current contour, and are given the x and y coordinates of the circle, along with its radius."
   ]
  },
  {
   "cell_type": "markdown",
   "metadata": {},
   "source": [
    "- __Contours__ are extremely powerful tools to have in our toolbox. They allow us to count objects in images and allow us to extract these objects from images."
   ]
  }
 ],
 "metadata": {
  "kernelspec": {
   "display_name": "Python 3",
   "language": "python",
   "name": "python3"
  },
  "language_info": {
   "codemirror_mode": {
    "name": "ipython",
    "version": 3
   },
   "file_extension": ".py",
   "mimetype": "text/x-python",
   "name": "python",
   "nbconvert_exporter": "python",
   "pygments_lexer": "ipython3",
   "version": "3.7.7"
  }
 },
 "nbformat": 4,
 "nbformat_minor": 4
}
